{
 "cells": [
  {
   "cell_type": "code",
   "execution_count": 1,
   "id": "a877a201-5b56-4e06-99f2-86d526f37b4c",
   "metadata": {},
   "outputs": [],
   "source": [
    "# import json\n",
    "# import csv\n",
    "\n",
    "# def json_to_csv(input_file, output_file):\n",
    "#     with open(input_file, 'r') as infile, open(output_file, 'w', newline='') as outfile:\n",
    "#         fieldnames = ['hotel_url', 'author', 'date', 'rating', 'title', 'text', 'property_dict']\n",
    "#         csv_writer = csv.DictWriter(outfile, fieldnames=fieldnames)\n",
    "#         csv_writer.writeheader()\n",
    "\n",
    "#         for line in infile:\n",
    "#             data = json.loads(line)\n",
    "#             csv_writer.writerow(data)\n",
    "\n",
    "# # Example usage:\n",
    "# input_file = '../hotelRec/HotelRec.txt'\n",
    "# output_file = 'hotel_reviews.csv'\n",
    "# json_to_csv(input_file, output_file)"
   ]
  },
  {
   "cell_type": "code",
   "execution_count": 2,
   "id": "fcea02cc-6b54-4249-896a-ba0a5230bea3",
   "metadata": {},
   "outputs": [
    {
     "name": "stdout",
     "output_type": "stream",
     "text": [
      "                                           hotel_url        author  \\\n",
      "0  Hotel_Review-g194775-d1121769-Reviews-Hotel_Ba...  violettaf340   \n",
      "1  Hotel_Review-g194775-d1121769-Reviews-Hotel_Ba...     Lagaiuzza   \n",
      "2  Hotel_Review-g194775-d1121769-Reviews-Hotel_Ba...    ashleyn763   \n",
      "3  Hotel_Review-g194775-d1121769-Reviews-Hotel_Ba...   DavideMauro   \n",
      "4  Hotel_Review-g194775-d1121769-Reviews-Hotel_Ba...      Alemma11   \n",
      "\n",
      "                  date  rating  \\\n",
      "0  2019-01-01T00:00:00     5.0   \n",
      "1  2016-01-01T00:00:00     5.0   \n",
      "2  2014-10-01T00:00:00     5.0   \n",
      "3  2014-08-01T00:00:00     5.0   \n",
      "4  2013-08-01T00:00:00     4.0   \n",
      "\n",
      "                                              title  \\\n",
      "0                                      Xmas holiday   \n",
      "1                                Baltic, what else?   \n",
      "2                           Excellent in every way!   \n",
      "3                The house of your family's holiday   \n",
      "4  A paradise for children (and parents, of course)   \n",
      "\n",
      "                                                text  \\\n",
      "0  We went here with our kids for Xmas holiday an...   \n",
      "1  We have spent in this hotel our summer holiday...   \n",
      "2  I visited Hotel Baltic with my husband for som...   \n",
      "3  I've travelled quite a numbers of hotels but t...   \n",
      "4  We decided for this family holiday destination...   \n",
      "\n",
      "                                       property_dict  \n",
      "0                                                 {}  \n",
      "1                                                 {}  \n",
      "2    {'service': 5.0, 'location': 5.0, 'value': 5.0}  \n",
      "3  {'service': 5.0, 'cleanliness': 5.0, 'sleep qu...  \n",
      "4  {'sleep quality': 3.0, 'value': 4.0, 'rooms': ...  \n"
     ]
    }
   ],
   "source": [
    "import dask.dataframe as dd\n",
    "\n",
    "df = dd.read_csv('../data/hotel_reviews.csv')\n",
    "# Perform computations on the Dask DataFrame\n",
    "print(df.head())"
   ]
  },
  {
   "cell_type": "code",
   "execution_count": 3,
   "id": "3aa5a8c9-5f9d-4ec5-9877-7a1b791f13b3",
   "metadata": {},
   "outputs": [
    {
     "name": "stdout",
     "output_type": "stream",
     "text": [
      "50264531\n"
     ]
    }
   ],
   "source": [
    "num_rows = len(df.index)\n",
    "print(num_rows)"
   ]
  },
  {
   "cell_type": "code",
   "execution_count": null,
   "id": "28d930a0-fff3-4a43-b2f4-5c8b01419159",
   "metadata": {},
   "outputs": [],
   "source": []
  },
  {
   "cell_type": "code",
   "execution_count": null,
   "id": "abf8c33c-509a-4fab-a477-0da0546d1de9",
   "metadata": {},
   "outputs": [],
   "source": []
  }
 ],
 "metadata": {
  "kernelspec": {
   "display_name": "Python 3 (ipykernel)",
   "language": "python",
   "name": "python3"
  },
  "language_info": {
   "codemirror_mode": {
    "name": "ipython",
    "version": 3
   },
   "file_extension": ".py",
   "mimetype": "text/x-python",
   "name": "python",
   "nbconvert_exporter": "python",
   "pygments_lexer": "ipython3",
   "version": "3.12.7"
  }
 },
 "nbformat": 4,
 "nbformat_minor": 5
}
